{
 "cells": [
  {
   "cell_type": "code",
   "execution_count": 1,
   "id": "2f7d1459",
   "metadata": {},
   "outputs": [],
   "source": [
    "import joblib"
   ]
  },
  {
   "cell_type": "code",
   "execution_count": 2,
   "id": "c4e687b2",
   "metadata": {},
   "outputs": [],
   "source": [
    "# Load classification model and encoder\n",
    "clf = joblib.load(\"crop_recommendation_model.pkl\")\n",
    "crop_encoder = joblib.load(\"crop_label_encoder.pkl\")"
   ]
  },
  {
   "cell_type": "code",
   "execution_count": 3,
   "id": "0d2046d7",
   "metadata": {},
   "outputs": [
    {
     "name": "stdout",
     "output_type": "stream",
     "text": [
      "🌱 Recommended Crop: rice\n"
     ]
    },
    {
     "name": "stderr",
     "output_type": "stream",
     "text": [
      "/home/allen/Documents/IA3/John-Model/venv/lib/python3.10/site-packages/sklearn/utils/validation.py:2739: UserWarning: X does not have valid feature names, but RandomForestClassifier was fitted with feature names\n",
      "  warnings.warn(\n"
     ]
    }
   ],
   "source": [
    "# Sample input: [N, P, K, temperature, humidity, pH, rainfall]\n",
    "new_crop_input = [[90, 40, 40, 22.5, 80.0, 6.7, 200.0]]\n",
    "pred_label = clf.predict(new_crop_input)\n",
    "pred_crop = crop_encoder.inverse_transform(pred_label)\n",
    "print(f\"🌱 Recommended Crop: {pred_crop[0]}\")"
   ]
  },
  {
   "cell_type": "code",
   "execution_count": 4,
   "id": "f75afda2",
   "metadata": {},
   "outputs": [],
   "source": [
    "# Load regression model and encoders\n",
    "reg = joblib.load(\"crop_yield_model.pkl\")\n",
    "region_enc = joblib.load(\"region_encoder.pkl\")\n",
    "soil_enc = joblib.load(\"soil_encoder.pkl\")\n",
    "crop_enc = joblib.load(\"crop_encoder.pkl\")\n",
    "weather_enc = joblib.load(\"weather_encoder.pkl\")\n"
   ]
  },
  {
   "cell_type": "code",
   "execution_count": 5,
   "id": "0583296b",
   "metadata": {},
   "outputs": [],
   "source": [
    "# Sample input\n",
    "sample_input = {\n",
    "    \"Region\": \"Punjab\",\n",
    "    \"Soil_Type\": \"Loamy\",\n",
    "    \"Crop\": \"Wheat\",\n",
    "    \"Rainfall_mm\": 300.0,\n",
    "    \"Temperature_Celsius\": 25.0,\n",
    "    \"Fertilizer_Used\": True,\n",
    "    \"Irrigation_Used\": True,\n",
    "    \"Weather_Condition\": \"Sunny\",\n",
    "    \"Days_to_Harvest\": 120\n",
    "}"
   ]
  },
  {
   "cell_type": "code",
   "execution_count": 11,
   "id": "e1958b92",
   "metadata": {},
   "outputs": [
    {
     "name": "stdout",
     "output_type": "stream",
     "text": [
      "🌾 Recommended Crop: rice\n",
      "🌱 Predicted Yield (tons/hectare): 3.27\n"
     ]
    },
    {
     "name": "stderr",
     "output_type": "stream",
     "text": [
      "/home/allen/Documents/IA3/John-Model/venv/lib/python3.10/site-packages/sklearn/utils/validation.py:2739: UserWarning: X does not have valid feature names, but RandomForestClassifier was fitted with feature names\n",
      "  warnings.warn(\n",
      "/home/allen/Documents/IA3/John-Model/venv/lib/python3.10/site-packages/sklearn/utils/validation.py:2739: UserWarning: X does not have valid feature names, but RandomForestRegressor was fitted with feature names\n",
      "  warnings.warn(\n"
     ]
    }
   ],
   "source": [
    "import joblib\n",
    "import numpy as np\n",
    "\n",
    "# Load classification model and label encoder\n",
    "clf = joblib.load(\"crop_recommendation_model.pkl\")\n",
    "crop_encoder = joblib.load(\"crop_label_encoder.pkl\")\n",
    "\n",
    "# Load regression model and encoders\n",
    "reg = joblib.load(\"crop_yield_model.pkl\")\n",
    "region_enc = joblib.load(\"region_encoder.pkl\")\n",
    "soil_enc = joblib.load(\"soil_encoder.pkl\")\n",
    "crop_enc = joblib.load(\"crop_encoder.pkl\")\n",
    "weather_enc = joblib.load(\"weather_encoder.pkl\")\n",
    "\n",
    "# ─────────────────────────────────────────────\n",
    "# Helper function for safe label encoding\n",
    "# ─────────────────────────────────────────────\n",
    "def safe_label_encode(encoder, label, field_name):\n",
    "    if label in encoder.classes_:\n",
    "        return encoder.transform([label])[0]\n",
    "    else:\n",
    "        print(f\"⚠️ Warning: Unseen label '{label}' for {field_name}. Substituting with default.\")\n",
    "        return encoder.transform([encoder.classes_[0]])[0]  # fallback to first known class\n",
    "\n",
    "# ─────────────────────────────────────────────\n",
    "# EXAMPLE TESTING\n",
    "# ─────────────────────────────────────────────\n",
    "\n",
    "# Classification Test Input (N, P, K, temperature, humidity, ph, rainfall)\n",
    "test_crop_input = [[90, 42, 43, 20.0, 80.0, 6.5, 200.0]]  # Replace with your values\n",
    "predicted_crop_index = clf.predict(test_crop_input)[0]\n",
    "predicted_crop_name = crop_encoder.inverse_transform([predicted_crop_index])[0]\n",
    "\n",
    "print(f\"🌾 Recommended Crop: {predicted_crop_name}\")\n",
    "\n",
    "# Regression Test Input\n",
    "sample_input = {\n",
    "    \"Region\": \"North\",\n",
    "    \"Soil_Type\": \"Clay\",\n",
    "    \"Crop\": \"Wheat\",\n",
    "    \"Rainfall_mm\": 210.0,\n",
    "    \"Temperature_Celsius\": 22.5,\n",
    "    \"Fertilizer_Used\": True,\n",
    "    \"Irrigation_Used\": False,\n",
    "    \"Weather_Condition\": \"Cloudy\",\n",
    "    \"Days_to_Harvest\": 130\n",
    "}\n",
    "\n",
    "# Encode safely\n",
    "encoded_input = [\n",
    "    safe_label_encode(region_enc, sample_input[\"Region\"], \"Region\"),\n",
    "    safe_label_encode(soil_enc, sample_input[\"Soil_Type\"], \"Soil_Type\"),\n",
    "    safe_label_encode(crop_enc, sample_input[\"Crop\"], \"Crop\"),\n",
    "    sample_input[\"Rainfall_mm\"],\n",
    "    sample_input[\"Temperature_Celsius\"],\n",
    "    int(sample_input[\"Fertilizer_Used\"]),\n",
    "    int(sample_input[\"Irrigation_Used\"]),\n",
    "    safe_label_encode(weather_enc, sample_input[\"Weather_Condition\"], \"Weather_Condition\"),\n",
    "    sample_input[\"Days_to_Harvest\"]\n",
    "]\n",
    "\n",
    "# Reshape for prediction\n",
    "encoded_input = np.array(encoded_input).reshape(1, -1)\n",
    "predicted_yield = reg.predict(encoded_input)\n",
    "\n",
    "print(f\"🌱 Predicted Yield (tons/hectare): {predicted_yield[0]:.2f}\")\n"
   ]
  },
  {
   "cell_type": "code",
   "execution_count": null,
   "id": "20b985c1",
   "metadata": {},
   "outputs": [],
   "source": []
  }
 ],
 "metadata": {
  "kernelspec": {
   "display_name": "venv",
   "language": "python",
   "name": "python3"
  },
  "language_info": {
   "codemirror_mode": {
    "name": "ipython",
    "version": 3
   },
   "file_extension": ".py",
   "mimetype": "text/x-python",
   "name": "python",
   "nbconvert_exporter": "python",
   "pygments_lexer": "ipython3",
   "version": "3.10.12"
  }
 },
 "nbformat": 4,
 "nbformat_minor": 5
}
